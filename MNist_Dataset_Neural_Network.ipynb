{
  "nbformat": 4,
  "nbformat_minor": 0,
  "metadata": {
    "colab": {
      "provenance": []
    },
    "kernelspec": {
      "name": "python3",
      "display_name": "Python 3"
    },
    "language_info": {
      "name": "python"
    }
  },
  "cells": [
    {
      "cell_type": "code",
      "execution_count": null,
      "metadata": {
        "id": "LfeTw7fn5WON"
      },
      "outputs": [],
      "source": [
        "import numpy as np\n",
        "import matplotlib.pyplot as plt\n",
        "import tensorflow as tf"
      ]
    },
    {
      "cell_type": "markdown",
      "source": [
        "Implemented Artificial Neural Network on MNist dataset with an\n",
        "accuracy of 98%\n"
      ],
      "metadata": {
        "id": "jqGaG1ZdEDNL"
      }
    },
    {
      "cell_type": "code",
      "source": [
        "mnist=tf.keras.datasets.mnist\n",
        "(x_train,y_train),(x_test,y_test)=mnist.load_data()\n",
        "x_train,x_test=x_train/255.0,x_test/255.#minist dataset contains of images of numbers from 0-9.Each image is of 28x28 resolution and each cell is of a pixel of the image.We need to classify the pixel data into any one of the images of numbers"
      ],
      "metadata": {
        "colab": {
          "base_uri": "https://localhost:8080/"
        },
        "id": "LgwU4qgi55uh",
        "outputId": "db09c508-58d3-4a3a-f303-9de424494bbe"
      },
      "execution_count": null,
      "outputs": [
        {
          "output_type": "stream",
          "name": "stdout",
          "text": [
            "Downloading data from https://storage.googleapis.com/tensorflow/tf-keras-datasets/mnist.npz\n",
            "11490434/11490434 [==============================] - 0s 0us/step\n"
          ]
        }
      ]
    },
    {
      "cell_type": "code",
      "source": [
        "x_train.shape#60,000 images each of 28x28 array and each cell is a pixel of image"
      ],
      "metadata": {
        "colab": {
          "base_uri": "https://localhost:8080/"
        },
        "id": "vyWBt33y6jkK",
        "outputId": "d5c36080-9820-4a76-b3ad-a6540a4ab771"
      },
      "execution_count": null,
      "outputs": [
        {
          "output_type": "execute_result",
          "data": {
            "text/plain": [
              "(60000, 28, 28)"
            ]
          },
          "metadata": {},
          "execution_count": 3
        }
      ]
    },
    {
      "cell_type": "code",
      "source": [
        "x_train[0].shape"
      ],
      "metadata": {
        "colab": {
          "base_uri": "https://localhost:8080/"
        },
        "id": "QQARrEUxi3Gw",
        "outputId": "db406dc5-0b99-4a6e-d0a8-a634a3b91098"
      },
      "execution_count": null,
      "outputs": [
        {
          "output_type": "execute_result",
          "data": {
            "text/plain": [
              "(28, 28)"
            ]
          },
          "metadata": {},
          "execution_count": 4
        }
      ]
    },
    {
      "cell_type": "code",
      "source": [
        "y_train.shape"
      ],
      "metadata": {
        "colab": {
          "base_uri": "https://localhost:8080/"
        },
        "id": "pPCa14cy66ks",
        "outputId": "b2e90e85-5372-4fad-c9e1-d0130466d7b4"
      },
      "execution_count": null,
      "outputs": [
        {
          "output_type": "execute_result",
          "data": {
            "text/plain": [
              "(60000,)"
            ]
          },
          "metadata": {},
          "execution_count": 5
        }
      ]
    },
    {
      "cell_type": "code",
      "source": [
        "y_train[:5]#first image is a 5,2nd is a 0 and so on...."
      ],
      "metadata": {
        "colab": {
          "base_uri": "https://localhost:8080/"
        },
        "id": "-ubStAyai7t_",
        "outputId": "9dca9a62-06da-4eef-913f-9787b84b7554"
      },
      "execution_count": null,
      "outputs": [
        {
          "output_type": "execute_result",
          "data": {
            "text/plain": [
              "array([5, 0, 4, 1, 9], dtype=uint8)"
            ]
          },
          "metadata": {},
          "execution_count": 6
        }
      ]
    },
    {
      "cell_type": "code",
      "source": [
        "model=tf.keras.models.Sequential([\n",
        "    tf.keras.layers.Flatten(input_shape=(28,28)),#input layer where we flatten the inputs\n",
        "    tf.keras.layers.Dense(128,activation='relu'),#hidden layer with 128 neurons\n",
        "    tf.keras.layers.Dropout(0.2),#20% of the neurons in the hidden layer will be switched off\n",
        "    tf.keras.layers.Dense(10)#output layer with 10 categories as numbers are from [0,9]\n",
        "])"
      ],
      "metadata": {
        "id": "WTnCJcVJBbhF"
      },
      "execution_count": null,
      "outputs": []
    },
    {
      "cell_type": "code",
      "source": [
        "loss_fn=tf.keras.losses.SparseCategoricalCrossentropy(from_logits=True)\n",
        "'''\n",
        "The line of code you provided defines a loss function for a neural network in TensorFlow using the Keras API:\n",
        "\n",
        "```python\n",
        "loss_fn = tf.keras.losses.SparseCategoricalCrossentropy(from_logits=True)\n",
        "```\n",
        "\n",
        "### Explanation:\n",
        "\n",
        "- **`tf.keras.losses.SparseCategoricalCrossentropy`**: This is a built-in loss function in TensorFlow's Keras API, used for multi-class classification problems. It is used when the labels are provided as integers (sparse format) rather than one-hot encoded vectors.\n",
        "\n",
        "- **`from_logits=True`**: This parameter indicates that the input to the loss function is raw logits rather than probabilities. Logits are the raw, unnormalized scores output by the last layer of the neural network. When `from_logits=True`, the loss function applies the softmax activation function internally to convert the logits to probabilities before computing the cross-entropy loss.\n",
        "\n",
        "### When to Use `SparseCategoricalCrossentropy`:\n",
        "\n",
        "- **Sparse Labels**: This loss function is used when your target labels are integers. For example, if you have three classes, your labels might be `[0, 1, 2]` rather than one-hot encoded vectors like `[[1, 0, 0], [0, 1, 0], [0, 0, 1]]`.\n",
        "\n",
        "- **Classification Problems**: This loss function is typically used for classification problems where you want to classify inputs into one of several classes.\n",
        "\n",
        "### Example Use Case:\n",
        "\n",
        "Let's say you are working on a classification problem with three classes and your model outputs raw logits. Here is how you might compile a model using this loss function:\n",
        "\n",
        "```python\n",
        "import tensorflow as tf\n",
        "\n",
        "# Example model\n",
        "model = tf.keras.models.Sequential([\n",
        "    tf.keras.layers.Dense(128, activation='relu', input_shape=(784,)),\n",
        "    tf.keras.layers.Dense(64, activation='relu'),\n",
        "    tf.keras.layers.Dense(3)  # No activation here since we'll use from_logits=True\n",
        "])\n",
        "\n",
        "# Compile the model\n",
        "model.compile(optimizer='adam',\n",
        "              loss=tf.keras.losses.SparseCategoricalCrossentropy(from_logits=True),\n",
        "              metrics=['accuracy'])\n",
        "\n",
        "# Example data (X_train: features, y_train: labels)\n",
        "# X_train should have shape (num_samples, 784)\n",
        "# y_train should have shape (num_samples,) with integer labels\n",
        "X_train = ...  # Your training data\n",
        "y_train = ...  # Your training labels\n",
        "\n",
        "# Train the model\n",
        "model.fit(X_train, y_train, epochs=10)\n",
        "```\n",
        "\n",
        "### Why Use `from_logits=True`?\n",
        "\n",
        "- **Numerical Stability**: Using logits directly can be more numerically stable. Applying the softmax activation within the loss function can prevent issues related to floating-point precision.\n",
        "- **Simplified Model Output**: By setting `from_logits=True`, you can avoid adding a separate softmax layer at the end of your model, simplifying your model definition.\n",
        "\n",
        "### Summary:\n",
        "\n",
        "The code `loss_fn = tf.keras.losses.SparseCategoricalCrossentropy(from_logits=True)` defines a loss function that computes the sparse categorical cross-entropy between the labels and the logits output by the model. This is particularly useful for classification problems with integer labels and models that output raw logits.\n",
        "'''"
      ],
      "metadata": {
        "id": "kcjYrFkECif-"
      },
      "execution_count": null,
      "outputs": []
    },
    {
      "cell_type": "code",
      "source": [
        "model.compile(optimizer='adam',\n",
        "              loss=loss_fn,\n",
        "              metrics=['accuracy'])"
      ],
      "metadata": {
        "id": "ZVXcwRMOC4la"
      },
      "execution_count": null,
      "outputs": []
    },
    {
      "cell_type": "code",
      "source": [
        "model.fit(x_train,y_train,epochs=5)"
      ],
      "metadata": {
        "colab": {
          "base_uri": "https://localhost:8080/"
        },
        "id": "CrKBIbO2DIN4",
        "outputId": "f5032885-1f39-49e1-9c34-20531a8d62b2"
      },
      "execution_count": null,
      "outputs": [
        {
          "output_type": "stream",
          "name": "stdout",
          "text": [
            "Epoch 1/5\n",
            "1875/1875 [==============================] - 5s 2ms/step - loss: 0.2967 - accuracy: 0.9142\n",
            "Epoch 2/5\n",
            "1875/1875 [==============================] - 4s 2ms/step - loss: 0.1455 - accuracy: 0.9566\n",
            "Epoch 3/5\n",
            "1875/1875 [==============================] - 4s 2ms/step - loss: 0.1093 - accuracy: 0.9675\n",
            "Epoch 4/5\n",
            "1875/1875 [==============================] - 4s 2ms/step - loss: 0.0884 - accuracy: 0.9730\n",
            "Epoch 5/5\n",
            "1875/1875 [==============================] - 4s 2ms/step - loss: 0.0747 - accuracy: 0.9766\n"
          ]
        },
        {
          "output_type": "execute_result",
          "data": {
            "text/plain": [
              "<keras.src.callbacks.History at 0x7ebed5b4d120>"
            ]
          },
          "metadata": {},
          "execution_count": 11
        }
      ]
    },
    {
      "cell_type": "code",
      "source": [
        "model.evaluate(x_test,y_test,verbose=1)"
      ],
      "metadata": {
        "colab": {
          "base_uri": "https://localhost:8080/"
        },
        "id": "3xurP66sJeuS",
        "outputId": "2c908234-d41f-4c33-c2dc-5378674c0e58"
      },
      "execution_count": null,
      "outputs": [
        {
          "output_type": "stream",
          "name": "stdout",
          "text": [
            "313/313 [==============================] - 0s 1ms/step - loss: 0.0746 - accuracy: 0.9785\n"
          ]
        },
        {
          "output_type": "execute_result",
          "data": {
            "text/plain": [
              "[0.07458296418190002, 0.9785000085830688]"
            ]
          },
          "metadata": {},
          "execution_count": 12
        }
      ]
    },
    {
      "cell_type": "code",
      "source": [
        "test_image=x_test[0]"
      ],
      "metadata": {
        "id": "fxooEt-9JnVS"
      },
      "execution_count": null,
      "outputs": []
    },
    {
      "cell_type": "code",
      "source": [
        "logits=model.predict(np.expand_dims(test_image,axis=0))\n",
        "'''\n",
        "1. np.expand_dims(test_image, axis=0)\n",
        "np.expand_dims: This function is from the NumPy library and is used to expand the shape of an array by inserting a new axis at the specified position.\n",
        "test_image: This is the input image that you want to make a prediction on. It is assumed to be a NumPy array.\n",
        "axis=0: This specifies that the new axis should be inserted at position 0, effectively adding a new dimension to the array.\n",
        "Purpose:\n",
        "Neural network models in TensorFlow/Keras typically expect a batch of inputs, even if it's just a single image. If test_image has a shape like (28, 28) (for a 28x28 grayscale image) or (28, 28, 3) (for a 28x28 RGB image), np.expand_dims(test_image, axis=0) will add a batch dimension, resulting in shapes (1, 28, 28) or (1, 28, 28, 3), respectively. This new shape indicates a batch of one image.\n",
        "'''\n",
        "\n"
      ],
      "metadata": {
        "colab": {
          "base_uri": "https://localhost:8080/"
        },
        "id": "PtXFK4XAJqjV",
        "outputId": "0fc0f7d2-02a1-4018-af37-d38f11b33a05"
      },
      "execution_count": null,
      "outputs": [
        {
          "output_type": "stream",
          "name": "stdout",
          "text": [
            "1/1 [==============================] - 0s 60ms/step\n"
          ]
        }
      ]
    },
    {
      "cell_type": "markdown",
      "source": [
        "Logit in Logistic Regression\n",
        "Logit refers to the natural logarithm of the odds of the probability of an event occurring in logistic regression. In the context of logistic regression, the logit function is the link function that connects the linear predictor to the probability of the outcome.\n",
        "\n",
        "Definition of Logit:\n",
        "For a binary classification problem where\n",
        "𝑝\n",
        "p is the probability of the positive class, the logit is defined as:\n",
        "\n",
        "![image.png](data:image/png;base64,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)\n"
      ],
      "metadata": {
        "id": "uuc9UnrAObwL"
      }
    },
    {
      "cell_type": "code",
      "source": [
        "np.expand_dims(test_image,axis=0).shape"
      ],
      "metadata": {
        "colab": {
          "base_uri": "https://localhost:8080/"
        },
        "id": "_5NOUGMZJ5sX",
        "outputId": "30e5fc4f-221a-4674-f7d5-91c9c5908bcb"
      },
      "execution_count": null,
      "outputs": [
        {
          "output_type": "execute_result",
          "data": {
            "text/plain": [
              "(1, 28, 28)"
            ]
          },
          "metadata": {},
          "execution_count": 16
        }
      ]
    },
    {
      "cell_type": "code",
      "source": [
        "probabilities=tf.nn.softmax(logits).numpy()#softmax is an activation function\n",
        "#Softmax function converts logits to probabilities\n",
        "probabilities"
      ],
      "metadata": {
        "colab": {
          "base_uri": "https://localhost:8080/"
        },
        "id": "gjAW3W6hKHmD",
        "outputId": "a75218c8-14c6-42df-e8a3-1a6c6f99e79d"
      },
      "execution_count": null,
      "outputs": [
        {
          "output_type": "execute_result",
          "data": {
            "text/plain": [
              "array([[5.8914736e-08, 3.4065624e-09, 2.5905324e-06, 3.5163987e-04,\n",
              "        3.8137500e-13, 1.4113893e-07, 2.0256064e-13, 9.9964178e-01,\n",
              "        8.4515825e-08, 3.7325728e-06]], dtype=float32)"
            ]
          },
          "metadata": {},
          "execution_count": 18
        }
      ]
    },
    {
      "cell_type": "code",
      "source": [
        "predicted_class=np.argmax(probabilities)\n",
        "predicted_class"
      ],
      "metadata": {
        "colab": {
          "base_uri": "https://localhost:8080/"
        },
        "id": "kudDTnNwWU0R",
        "outputId": "938fba0d-48cf-4c46-8186-f0ff4c6c686f"
      },
      "execution_count": null,
      "outputs": [
        {
          "output_type": "execute_result",
          "data": {
            "text/plain": [
              "7"
            ]
          },
          "metadata": {},
          "execution_count": 19
        }
      ]
    },
    {
      "cell_type": "code",
      "source": [
        "plt.imshow(x_train[101],cmap='gray')#gray colormap to show the image in grayscale\n",
        "plt.title(f'Label:{y_train[101]}')\n",
        "plt.show()"
      ],
      "metadata": {
        "colab": {
          "base_uri": "https://localhost:8080/",
          "height": 452
        },
        "id": "S8QuZzPmWcp0",
        "outputId": "a6130f51-f498-46e0-d375-b6f2a404e975"
      },
      "execution_count": null,
      "outputs": [
        {
          "output_type": "display_data",
          "data": {
            "text/plain": [
              "<Figure size 640x480 with 1 Axes>"
            ],
            "image/png": "[encoded data removed]"
          },
          "metadata": {}
        }
      ]
    }
  ]
}